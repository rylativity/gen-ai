{
 "cells": [
  {
   "cell_type": "code",
   "execution_count": 1,
   "id": "edf9fffe-d3f5-4243-a7df-25a03db3f4fa",
   "metadata": {},
   "outputs": [],
   "source": [
    "from langchain_ollama import ChatOllama\n",
    "from langchain_community.utilities import SQLDatabase\n",
    "from langchain_ollama.embeddings import OllamaEmbeddings\n",
    "from pydantic import BaseModel, Field\n",
    "import sqlite3\n",
    "from uuid import uuid4"
   ]
  },
  {
   "cell_type": "code",
   "execution_count": 2,
   "id": "f91d6004-0e01-4dc3-99d9-d0c36fe79bcb",
   "metadata": {},
   "outputs": [],
   "source": [
    "OLLAMA_BASE_URL = \"http://host.docker.internal:11434\"\n",
    "OLLAMA_MODEL_ID = \"qwen2.5\"\n",
    "OLLAMA_EMBEDDING_MODEL_ID = \"nomic-embed-text\"\n",
    "\n",
    "SQLITE_DATABASE_URI = \"sqlite:///Chinook.db\"\n",
    "\n",
    "OPENSEARCH_URL = \"http://host.docker.internal:9200\""
   ]
  },
  {
   "cell_type": "code",
   "execution_count": 3,
   "id": "72b437f3-aa11-477e-b95e-4d77c6714ea7",
   "metadata": {},
   "outputs": [
    {
     "name": "stdout",
     "output_type": "stream",
     "text": [
      "Available tables are ['Album', 'Artist', 'Customer', 'Employee', 'Genre', 'Invoice', 'InvoiceLine', 'MediaType', 'Playlist', 'PlaylistTrack', 'Track']\n"
     ]
    }
   ],
   "source": [
    "db = SQLDatabase.from_uri(SQLITE_DATABASE_URI)\n",
    "print(f\"Available tables are {db.get_usable_table_names()}\")"
   ]
  },
  {
   "cell_type": "code",
   "execution_count": 4,
   "id": "4dc866b3-af7a-4520-8da8-6a0ed795ddbd",
   "metadata": {
    "scrolled": true
   },
   "outputs": [
    {
     "data": {
      "text/plain": [
       "\"[(1, 'AC/DC'), (2, 'Accept'), (3, 'Aerosmith'), (4, 'Alanis Morissette'), (5, 'Alice In Chains'), (6, 'Antônio Carlos Jobim'), (7, 'Apocalyptica'), (8, 'Audioslave'), (9, 'BackBeat'), (10, 'Billy Cobham')]\""
      ]
     },
     "execution_count": 4,
     "metadata": {},
     "output_type": "execute_result"
    }
   ],
   "source": [
    "# Test db connection\n",
    "db.run(\"SELECT * FROM Artist LIMIT 10;\")"
   ]
  },
  {
   "cell_type": "code",
   "execution_count": 5,
   "id": "5ed53dc6-683a-432a-a86e-6e585061f201",
   "metadata": {},
   "outputs": [],
   "source": [
    "llm = ChatOllama(model=OLLAMA_MODEL_ID, temperature=0, base_url=OLLAMA_BASE_URL, verbose=True)"
   ]
  },
  {
   "cell_type": "code",
   "execution_count": 6,
   "id": "e7ff117e-eb3e-4637-ae37-ad365fd6d655",
   "metadata": {},
   "outputs": [],
   "source": [
    "def get_table_names() -> str:\n",
    "    table_names = \"\\n\".join(db.get_usable_table_names())\n",
    "    return table_names"
   ]
  },
  {
   "cell_type": "code",
   "execution_count": 12,
   "id": "b3c2fa2b-af9c-462a-89d1-9f1993b99b2e",
   "metadata": {},
   "outputs": [],
   "source": [
    "class Query(BaseModel):\n",
    "    \"\"\"Query response object\"\"\"\n",
    "    query: str = Field(description=\"The query to be executed against the database\")\n",
    "\n",
    "def generate_query(input_text:str, num_attempts_at_valid_query=5, return_results=True):\n",
    "    structured_llm = llm.with_structured_output(schema=Query)\n",
    "    messages = [{\n",
    "        \"role\":\"user\",\n",
    "        \"content\":f\"\"\"\\\n",
    "Here are the available table names:\n",
    "{get_table_names()}\n",
    "\n",
    "Generate a SQL query for sqlite3 that can be executed to satisfy the users question. If an error is raised by your query, update the query to resolve the error and satisfy the users question.\n",
    "\n",
    "{input_text}.\n",
    "\"\"\"\n",
    "    }]\n",
    "\n",
    "    attempts = 0\n",
    "    while attempts < num_attempts_at_valid_query:\n",
    "        attempts += 1\n",
    "        \n",
    "        query = structured_llm.invoke(messages)\n",
    "        query_text = query.query\n",
    "        messages.append({\"role\":\"assistant\",\"content\":query_text})\n",
    "        try:\n",
    "            results = db.run(query_text)\n",
    "            if return_results:\n",
    "                return query_text, results\n",
    "            return query_text\n",
    "        except Exception as e:\n",
    "            error_message = f\"Error raised - {e}\"\n",
    "            messages.append({\"role\":\"tool\",\"content\":error_message, \"tool_call_id\":uuid4().hex})\n",
    "            print(messages)\n",
    "\n",
    "        if attempts == num_attempts_at_valid_query:\n",
    "            raise Exception(f\"Exhausted {num_attempts_at_valid_query} attempts to generate query\")\n",
    "            "
   ]
  },
  {
   "cell_type": "code",
   "execution_count": 13,
   "id": "75dc2600-8b5d-4875-832b-a8aec1da06e0",
   "metadata": {},
   "outputs": [],
   "source": [
    "structured_llm = llm.with_structured_output(schema=Query)\n",
    "messages = [{\n",
    "    \"role\":\"user\",\n",
    "    \"content\":f\"\"\"\\\n",
    "Here are the available table names:\n",
    "{get_table_names()}\n",
    "\n",
    "Generate a SQL query for sqlite3 that can be executed to satisfy the users question. If an error is raised by your query, update the query to resolve the error and satisfy the users question.\n",
    "\n",
    "What are all the genres of Alanis Morisette songs.\n",
    "\"\"\"\n",
    "}]"
   ]
  },
  {
   "cell_type": "code",
   "execution_count": 17,
   "id": "a8fdb23d-45a7-4ae2-aaa4-693409d34997",
   "metadata": {},
   "outputs": [],
   "source": [
    "generated_query, results = generate_query(\"What are all the genres of Alanis Morisette songs\")"
   ]
  },
  {
   "cell_type": "code",
   "execution_count": 18,
   "id": "bd494a94-f98a-4dbf-a7bd-f75cd9c8076e",
   "metadata": {},
   "outputs": [
    {
     "data": {
      "text/plain": [
       "\"SELECT DISTINCT g.Name AS GenreName FROM Track t JOIN Album a ON t.AlbumId = a.AlbumId JOIN Artist ar ON a.ArtistId = ar.ArtistId JOIN Genre g ON t.GenreId = g.GenreId WHERE ar.Name = 'Alanis Morissette'\""
      ]
     },
     "execution_count": 18,
     "metadata": {},
     "output_type": "execute_result"
    }
   ],
   "source": [
    "generated_query"
   ]
  },
  {
   "cell_type": "code",
   "execution_count": 19,
   "id": "8762e4a4-7b93-42db-a41c-4877c61d692a",
   "metadata": {},
   "outputs": [
    {
     "data": {
      "text/plain": [
       "\"[('Rock',)]\""
      ]
     },
     "execution_count": 19,
     "metadata": {},
     "output_type": "execute_result"
    }
   ],
   "source": [
    "results"
   ]
  },
  {
   "cell_type": "code",
   "execution_count": null,
   "id": "bde6da16-d3f6-44f3-86ef-e96b47efc95d",
   "metadata": {},
   "outputs": [],
   "source": []
  }
 ],
 "metadata": {
  "kernelspec": {
   "display_name": "Python 3 (ipykernel)",
   "language": "python",
   "name": "python3"
  },
  "language_info": {
   "codemirror_mode": {
    "name": "ipython",
    "version": 3
   },
   "file_extension": ".py",
   "mimetype": "text/x-python",
   "name": "python",
   "nbconvert_exporter": "python",
   "pygments_lexer": "ipython3",
   "version": "3.12.9"
  }
 },
 "nbformat": 4,
 "nbformat_minor": 5
}
