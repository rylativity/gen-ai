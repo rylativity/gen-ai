{
 "cells": [
  {
   "cell_type": "code",
   "execution_count": 1,
   "id": "f538b604-035f-4eaa-a55b-129623d8a855",
   "metadata": {},
   "outputs": [],
   "source": [
    "import neo4j\n",
    "\n",
    "\n",
    "# LLM and Embedding Model\n",
    "from neo4j_graphrag.llm import OllamaLLM\n",
    "from neo4j_graphrag.embeddings.ollama import OllamaEmbeddings\n"
   ]
  },
  {
   "cell_type": "markdown",
   "id": "bd0ce940-983a-4999-a2f5-f84887f6dce7",
   "metadata": {},
   "source": [
    "# Setup"
   ]
  },
  {
   "cell_type": "code",
   "execution_count": 2,
   "id": "2002a371-89b2-4f9c-9ccf-9ac34225fd0c",
   "metadata": {},
   "outputs": [],
   "source": [
    "neo4j_driver = neo4j.GraphDatabase.driver(\"bolt://neo4j:7687\",\n",
    "                auth=(\"neo4j\", \"password\"))\n"
   ]
  },
  {
   "cell_type": "code",
   "execution_count": 8,
   "id": "6d487e7d-53ce-4964-9958-f77c39dc2fc9",
   "metadata": {},
   "outputs": [],
   "source": [
    "llm=OllamaLLM(\n",
    "   host=\"http://host.docker.internal:11434\",\n",
    "   model_name=\"qwen2.5\",\n",
    "   model_params={\n",
    "       \"response_format\": {\"type\": \"json_object\"}, # use json_object formatting for best results\n",
    "       \"temperature\": 0 # turning temperature down for more deterministic results\n",
    "   }\n",
    ")\n",
    "#create text embedder\n",
    "embedder = OllamaEmbeddings(model=\"nomic-embed-text\", host=\"http://host.docker.internal:11434\")"
   ]
  },
  {
   "cell_type": "code",
   "execution_count": 9,
   "id": "ac7ef48f-80d4-4969-b350-fa499d3e0600",
   "metadata": {},
   "outputs": [],
   "source": [
    "# Graph Schema Setup\n",
    "basic_node_labels = [\"Object\", \"Entity\", \"Group\", \"Person\", \"Organization\", \"Place\"]\n",
    "\n",
    "academic_node_labels = [\"ArticleOrPaper\", \"PublicationOrJournal\"]\n",
    "\n",
    "medical_node_labels = [\"Anatomy\", \"BiologicalProcess\", \"Cell\", \"CellularComponent\",\n",
    "                      \"CellType\", \"Condition\", \"Disease\", \"Drug\",\n",
    "                      \"EffectOrPhenotype\", \"Exposure\", \"GeneOrProtein\", \"Molecule\",\n",
    "                      \"MolecularFunction\", \"Pathway\"]\n",
    "\n",
    "node_labels = basic_node_labels + academic_node_labels + medical_node_labels\n",
    "\n",
    "# define relationship types\n",
    "rel_types = [\"ACTIVATES\", \"AFFECTS\", \"ASSESSES\", \"ASSOCIATED_WITH\", \"AUTHORED\",\n",
    "   \"BIOMARKER_FOR\"]"
   ]
  },
  {
   "cell_type": "code",
   "execution_count": 10,
   "id": "5ac6a921-a6ee-431f-b2e9-5a3ef81457ea",
   "metadata": {},
   "outputs": [],
   "source": [
    "\n",
    "\n",
    "# define prompt template\n",
    "prompt_template = '''\n",
    "You are a medical researcher tasks with extracting information from papers\n",
    "and structuring it in a property graph to inform further medical and research Q&A.\n",
    "\n",
    "Extract the entities (nodes) and specify their type from the following Input text.\n",
    "Also extract the relationships between these nodes. the relationship direction goes from the start node to the end node.\n",
    "\n",
    "\n",
    "Return result as JSON using the following format:\n",
    "{{\"nodes\": [ {{\"id\": \"0\", \"label\": \"the type of entity\", \"properties\": {{\"name\": \"name of entity\" }} }}],\n",
    "  \"relationships\": [{{\"type\": \"TYPE_OF_RELATIONSHIP\", \"start_node_id\": \"0\", \"end_node_id\": \"1\", \"properties\": {{\"details\": \"Description of the relationship\"}} }}] }}\n",
    "\n",
    "...\n",
    "\n",
    "Use only fhe following nodes and relationships:\n",
    "{schema}\n",
    "\n",
    "Assign a unique ID (string) to each node, and reuse it to define relationships.\n",
    "Do respect the source and target node types for relationship and the relationship direction.\n",
    "\n",
    "Do not return any additional information other than the JSON in it.\n",
    "\n",
    "Examples:\n",
    "{examples}\n",
    "\n",
    "Input text:\n",
    "\n",
    "{text}\n",
    "'''"
   ]
  },
  {
   "cell_type": "markdown",
   "id": "16bd0294-959e-4c83-85c0-8e123c90c80c",
   "metadata": {},
   "source": [
    "# Build Graph"
   ]
  },
  {
   "cell_type": "code",
   "execution_count": 11,
   "id": "8148fb23-b6b4-4271-8f27-4b06e61107ee",
   "metadata": {},
   "outputs": [
    {
     "name": "stdout",
     "output_type": "stream",
     "text": [
      "Processing : truncated-pdfs/pgpm-13-39-trunc.pdf\n"
     ]
    },
    {
     "name": "stderr",
     "output_type": "stream",
     "text": [
      "LLM response has improper format for chunk_index=13\n",
      "LLM response has improper format for chunk_index=26\n",
      "LLM response has improper format for chunk_index=25\n",
      "LLM response has improper format for chunk_index=31\n",
      "LLM response has improper format for chunk_index=35\n",
      "LLM response has improper format for chunk_index=34\n",
      "LLM response has improper format for chunk_index=47\n",
      "LLM response has improper format for chunk_index=55\n",
      "LLM response has improper format for chunk_index=68\n",
      "LLM response has improper format for chunk_index=81\n"
     ]
    },
    {
     "name": "stdout",
     "output_type": "stream",
     "text": [
      "Result: run_id='fbccc397-43c4-4678-aa9b-ed2cf1b3200b' result={'resolver': {'number_of_nodes_to_resolve': 602, 'number_of_created_nodes': 484}}\n"
     ]
    }
   ],
   "source": [
    "# Knowledge Graph Builder\n",
    "from neo4j_graphrag.experimental.components.text_splitters.fixed_size_splitter import FixedSizeSplitter\n",
    "from neo4j_graphrag.experimental.pipeline.kg_builder import SimpleKGPipeline\n",
    "\n",
    "kg_builder_pdf = SimpleKGPipeline(\n",
    "   llm=llm,\n",
    "   driver=neo4j_driver,\n",
    "   text_splitter=FixedSizeSplitter(chunk_size=500, chunk_overlap=100),\n",
    "   embedder=embedder,\n",
    "   entities=node_labels,\n",
    "   relations=rel_types,\n",
    "   prompt_template=prompt_template,\n",
    "   from_pdf=True\n",
    ")\n",
    "\n",
    "pdf_file_paths = [\n",
    "            # 'truncated-pdfs/biomolecules-11-00928-v2-trunc.pdf',\n",
    "            # 'truncated-pdfs/GAP-between-patients-and-clinicians_2023_Best-Practice-trunc.pdf',\n",
    "            'truncated-pdfs/pgpm-13-39-trunc.pdf'\n",
    "]\n",
    "\n",
    "for path in pdf_file_paths:\n",
    "    print(f\"Processing : {path}\")\n",
    "    pdf_result = await kg_builder_pdf.run_async(file_path=path)\n",
    "    print(f\"Result: {pdf_result}\")"
   ]
  },
  {
   "cell_type": "markdown",
   "id": "bcdd240e-073e-4932-860d-54605ab1de27",
   "metadata": {},
   "source": [
    "# Query"
   ]
  },
  {
   "cell_type": "code",
   "execution_count": 12,
   "id": "3c4328b5-8252-449f-885c-520c4c7463fe",
   "metadata": {},
   "outputs": [
    {
     "ename": "NameError",
     "evalue": "name 'driver' is not defined",
     "output_type": "error",
     "traceback": [
      "\u001b[31m---------------------------------------------------------------------------\u001b[39m",
      "\u001b[31mNameError\u001b[39m                                 Traceback (most recent call last)",
      "\u001b[36mCell\u001b[39m\u001b[36m \u001b[39m\u001b[32mIn[12]\u001b[39m\u001b[32m, line 3\u001b[39m\n\u001b[32m      1\u001b[39m \u001b[38;5;28;01mfrom\u001b[39;00m\u001b[38;5;250m \u001b[39m\u001b[34;01mneo4j_graphrag\u001b[39;00m\u001b[34;01m.\u001b[39;00m\u001b[34;01mindexes\u001b[39;00m\u001b[38;5;250m \u001b[39m\u001b[38;5;28;01mimport\u001b[39;00m create_vector_index\n\u001b[32m----> \u001b[39m\u001b[32m3\u001b[39m create_vector_index(\u001b[43mdriver\u001b[49m, name=\u001b[33m\"\u001b[39m\u001b[33mtext_embeddings\u001b[39m\u001b[33m\"\u001b[39m, label=\u001b[33m\"\u001b[39m\u001b[33mChunk\u001b[39m\u001b[33m\"\u001b[39m,\n\u001b[32m      4\u001b[39m                    embedding_property=\u001b[33m\"\u001b[39m\u001b[33membedding\u001b[39m\u001b[33m\"\u001b[39m, dimensions=\u001b[32m1536\u001b[39m, similarity_fn=\u001b[33m\"\u001b[39m\u001b[33mcosine\u001b[39m\u001b[33m\"\u001b[39m)\n\u001b[32m      6\u001b[39m \u001b[38;5;66;03m# Vector Retriever\u001b[39;00m\n\u001b[32m      7\u001b[39m \u001b[38;5;28;01mfrom\u001b[39;00m\u001b[38;5;250m \u001b[39m\u001b[34;01mneo4j_graphrag\u001b[39;00m\u001b[34;01m.\u001b[39;00m\u001b[34;01mretrievers\u001b[39;00m\u001b[38;5;250m \u001b[39m\u001b[38;5;28;01mimport\u001b[39;00m VectorRetriever\n",
      "\u001b[31mNameError\u001b[39m: name 'driver' is not defined"
     ]
    }
   ],
   "source": [
    "from neo4j_graphrag.indexes import create_vector_index\n",
    "\n",
    "create_vector_index(driver, name=\"text_embeddings\", label=\"Chunk\",\n",
    "                   embedding_property=\"embedding\", dimensions=1536, similarity_fn=\"cosine\")\n",
    "\n",
    "# Vector Retriever\n",
    "from neo4j_graphrag.retrievers import VectorRetriever\n",
    "\n",
    "vector_retriever = VectorRetriever(\n",
    "   driver,\n",
    "   index_name=\"text_embeddings\",\n",
    "   embedder=embedder,\n",
    "   return_properties=[\"text\"],\n",
    ")\n",
    "\n",
    "# GraphRAG Vector Cypher Retriever\n",
    "from neo4j_graphrag.retrievers import VectorCypherRetriever\n",
    "\n",
    "graph_retriever = VectorCypherRetriever(\n",
    "    driver,\n",
    "    index_name=\"text_embeddings\",\n",
    "    embedder=embedder,\n",
    "    retrieval_query=\"\"\"\n",
    "//1) Go out 2-3 hops in the entity graph and get relationships\n",
    "WITH node AS chunk\n",
    "MATCH (chunk)<-[:FROM_CHUNK]-(entity)-[relList:!FROM_CHUNK]-{1,2}(nb)\n",
    "UNWIND relList AS rel\n",
    "\n",
    "//2) collect relationships and text chunks\n",
    "WITH collect(DISTINCT chunk) AS chunks, collect(DISTINCT rel) AS rels\n",
    "\n",
    "//3) format and return context\n",
    "RETURN apoc.text.join([c in chunks | c.text], '\\n') +\n",
    "  apoc.text.join([r in rels |\n",
    "  startNode(r).name+' - '+type(r)+' '+r.details+' -> '+endNode(r).name],\n",
    "  '\\n') AS info\n",
    "\"\"\"\n",
    ")\n",
    "\n",
    "llm = LLM(model_name=\"gpt-4o\",  model_params={\"temperature\": 0.0})\n",
    "\n",
    "rag_template = RagTemplate(template='''Answer the Question using the following Context. Only respond with information mentioned in the Context. Do not inject any speculative information not mentioned.\n",
    "\n",
    "# Question:\n",
    "{query_text}\n",
    "\n",
    "# Context:\n",
    "{context}\n",
    "\n",
    "# Answer:\n",
    "''', expected_inputs=['query_text', 'context'])\n",
    "\n",
    "vector_rag  = GraphRAG(llm=llm, retriever=vector_retriever, prompt_template=rag_template)\n",
    "\n",
    "graph_rag = GraphRAG(llm=llm, retriever=graph_retriever, prompt_template=rag_template)\n",
    "\n",
    "q = \"Can you summarize systemic lupus erythematosus (SLE)? including common effects, biomarkers, and treatments? Provide in detailed list format.\"\n",
    "\n",
    "vector_rag.search(q, retriever_config={'top_k':5}).answer\n",
    "graph_rag.search(q, retriever_config={'top_k':5}).answer"
   ]
  },
  {
   "cell_type": "code",
   "execution_count": null,
   "id": "76e95b7c-24ff-4185-b9bd-8f9c60575c0e",
   "metadata": {},
   "outputs": [],
   "source": []
  },
  {
   "cell_type": "code",
   "execution_count": null,
   "id": "2b31443b-1bd5-44ee-8f06-76e5530c2ea4",
   "metadata": {},
   "outputs": [],
   "source": []
  }
 ],
 "metadata": {
  "kernelspec": {
   "display_name": "Python 3 (ipykernel)",
   "language": "python",
   "name": "python3"
  },
  "language_info": {
   "codemirror_mode": {
    "name": "ipython",
    "version": 3
   },
   "file_extension": ".py",
   "mimetype": "text/x-python",
   "name": "python",
   "nbconvert_exporter": "python",
   "pygments_lexer": "ipython3",
   "version": "3.12.9"
  }
 },
 "nbformat": 4,
 "nbformat_minor": 5
}
