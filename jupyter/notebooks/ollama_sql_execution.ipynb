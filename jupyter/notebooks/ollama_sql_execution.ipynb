{
 "cells": [
  {
   "cell_type": "markdown",
   "id": "35c4ee7c-8e83-4322-8a2e-335b183c37a8",
   "metadata": {},
   "source": [
    "Adapted for open-source & private AI from https://python.langchain.com/docs/how_to/sql_large_db/"
   ]
  },
  {
   "cell_type": "code",
   "execution_count": 1,
   "id": "4caf84e9-dc65-4efa-92ba-13eab41052b7",
   "metadata": {},
   "outputs": [],
   "source": [
    "import os\n",
    "from langchain_community.utilities import SQLDatabase\n",
    "from langchain.chains import create_sql_query_chain\n",
    "# from langchain_ollama.llms import OllamaLLM\n",
    "from langchain_ollama.chat_models import ChatOllama\n",
    "from langchain_ollama.embeddings import OllamaEmbeddings\n",
    "from langchain_community.vectorstores import OpenSearchVectorSearch\n",
    "\n",
    "from langchain_core.output_parsers.openai_tools import PydanticToolsParser\n",
    "from langchain_core.prompts import ChatPromptTemplate\n",
    "from pydantic import BaseModel, Field"
   ]
  },
  {
   "cell_type": "markdown",
   "id": "16f024ff-99f7-4a92-b528-103321f4bf11",
   "metadata": {},
   "source": [
    "# Setup Database and Ollama Connections"
   ]
  },
  {
   "cell_type": "code",
   "execution_count": 2,
   "id": "d11e212c-4bb9-4988-a657-c4d3e4b1196a",
   "metadata": {},
   "outputs": [],
   "source": [
    "OLLAMA_BASE_URL = \"http://host.docker.internal:11434\"\n",
    "OLLAMA_MODEL_ID = \"qwen2.5\"\n",
    "OLLAMA_EMBEDDING_MODEL_ID = \"nomic-embed-text\"\n",
    "\n",
    "SQLITE_DATABASE_URI = \"sqlite:///Chinook.db\"\n",
    "\n",
    "OPENSEARCH_URL = \"http://host.docker.internal:9200\""
   ]
  },
  {
   "cell_type": "code",
   "execution_count": 3,
   "id": "9ec1c5c3-67a3-4452-ae76-c2d7bb0ced4f",
   "metadata": {},
   "outputs": [
    {
     "name": "stdout",
     "output_type": "stream",
     "text": [
      "Available tables are ['Album', 'Artist', 'Customer', 'Employee', 'Genre', 'Invoice', 'InvoiceLine', 'MediaType', 'Playlist', 'PlaylistTrack', 'Track']\n"
     ]
    }
   ],
   "source": [
    "db = SQLDatabase.from_uri(SQLITE_DATABASE_URI)\n",
    "print(f\"Available tables are {db.get_usable_table_names()}\")"
   ]
  },
  {
   "cell_type": "code",
   "execution_count": 4,
   "id": "292860b0-726e-40cc-b9b8-f28eff4824c6",
   "metadata": {},
   "outputs": [
    {
     "data": {
      "text/plain": [
       "\"[(1, 'AC/DC'), (2, 'Accept'), (3, 'Aerosmith'), (4, 'Alanis Morissette'), (5, 'Alice In Chains'), (6, 'Antônio Carlos Jobim'), (7, 'Apocalyptica'), (8, 'Audioslave'), (9, 'BackBeat'), (10, 'Billy Cobham')]\""
      ]
     },
     "execution_count": 4,
     "metadata": {},
     "output_type": "execute_result"
    }
   ],
   "source": [
    "# Test db connection\n",
    "db.run(\"SELECT * FROM Artist LIMIT 10;\")"
   ]
  },
  {
   "cell_type": "code",
   "execution_count": 5,
   "id": "fa46e133-1a3b-4950-9fe3-21f736a84511",
   "metadata": {},
   "outputs": [],
   "source": [
    "llm = ChatOllama(model=OLLAMA_MODEL_ID, temperature=0, base_url=OLLAMA_BASE_URL, verbose=True)"
   ]
  },
  {
   "cell_type": "markdown",
   "id": "e6e5ec77-8ec1-4fdd-a280-ca628298878d",
   "metadata": {},
   "source": [
    "# Initial Example - Use LLM to Choose Relevant Tables Based on User Query"
   ]
  },
  {
   "cell_type": "code",
   "execution_count": 7,
   "id": "a44b4dfb-d8e2-4974-9b7c-29afb331dafe",
   "metadata": {},
   "outputs": [
    {
     "data": {
      "text/plain": [
       "[Table(name='Album'), Table(name='Track')]"
      ]
     },
     "execution_count": 7,
     "metadata": {},
     "output_type": "execute_result"
    }
   ],
   "source": [
    "class Table(BaseModel):\n",
    "    \"\"\"Table in SQL database.\"\"\"\n",
    "\n",
    "    name: str = Field(description=\"Name of the table in SQL database.\")\n",
    "\n",
    "table_names = \"\\n\".join(db.get_usable_table_names())\n",
    "system = f\"\"\"Below are the available table names:\n",
    "\n",
    "{table_names}\n",
    "\n",
    "Return the names of ALL the SQL tables that MIGHT be relevant to the user question. Respond with a list of Table objects.\n",
    "Remember to include ALL POTENTIALLY RELEVANT tables, even if you're not sure that they're needed.\"\"\"\n",
    "\n",
    "prompt = ChatPromptTemplate.from_messages(\n",
    "    [\n",
    "        (\"system\", system),\n",
    "        (\"human\", \"{input}\"),\n",
    "    ]\n",
    ")\n",
    "llm_with_tools = llm.bind_tools([Table])\n",
    "output_parser = PydanticToolsParser(tools=[Table])\n",
    "\n",
    "table_chain = prompt | llm_with_tools | output_parser\n",
    "\n",
    "table_chain.invoke({\"input\": \"What are all the genres of Alanis Morisette songs\"})"
   ]
  },
  {
   "cell_type": "markdown",
   "id": "412744f5-e0de-428f-b7ae-a841f6b8b721",
   "metadata": {},
   "source": [
    "# Simplify Model Table Selection By Grouping Tables and Asking LLM To Choose Category (Schema)"
   ]
  },
  {
   "cell_type": "code",
   "execution_count": 8,
   "id": "00510b2b-2a7c-407e-926c-9cad7eda02e4",
   "metadata": {},
   "outputs": [
    {
     "data": {
      "text/plain": [
       "[Table(name='Music')]"
      ]
     },
     "execution_count": 8,
     "metadata": {},
     "output_type": "execute_result"
    }
   ],
   "source": [
    "system = \"\"\"Return the names of any SQL tables that are relevant to the user question.\n",
    "The tables are:\n",
    "\n",
    "Music\n",
    "Business\n",
    "\"\"\"\n",
    "\n",
    "prompt = ChatPromptTemplate.from_messages(\n",
    "    [\n",
    "        (\"system\", system),\n",
    "        (\"human\", \"{input}\"),\n",
    "    ]\n",
    ")\n",
    "\n",
    "category_chain = prompt | llm_with_tools | output_parser\n",
    "category_chain.invoke({\"input\": \"What are all the genres of Alanis Morisette songs\"})"
   ]
  },
  {
   "cell_type": "code",
   "execution_count": 9,
   "id": "be883df5-4729-46e1-ad42-6b565a9cb137",
   "metadata": {},
   "outputs": [
    {
     "data": {
      "text/plain": [
       "['Album', 'Artist', 'Genre', 'MediaType', 'Playlist', 'PlaylistTrack', 'Track']"
      ]
     },
     "execution_count": 9,
     "metadata": {},
     "output_type": "execute_result"
    }
   ],
   "source": [
    "from typing import List\n",
    "\n",
    "\n",
    "def get_tables(categories: list[Table]) -> List[str]:\n",
    "    tables = []\n",
    "    for category in categories:\n",
    "        if category.name == \"Music\":\n",
    "            tables.extend(\n",
    "                [\n",
    "                    \"Album\",\n",
    "                    \"Artist\",\n",
    "                    \"Genre\",\n",
    "                    \"MediaType\",\n",
    "                    \"Playlist\",\n",
    "                    \"PlaylistTrack\",\n",
    "                    \"Track\",\n",
    "                ]\n",
    "            )\n",
    "        elif category.name == \"Business\":\n",
    "            tables.extend([\"Customer\", \"Employee\", \"Invoice\", \"InvoiceLine\"])\n",
    "    return tables\n",
    "\n",
    "\n",
    "table_chain = category_chain | get_tables\n",
    "table_chain.invoke({\"input\": \"What are all the genres of Alanis Morisette songs\"})"
   ]
  },
  {
   "cell_type": "markdown",
   "id": "d610ce2f-20c1-4c97-8689-dd4a9b2f57d8",
   "metadata": {},
   "source": [
    "# Create a Full SQL Query Chain, Including Passing Relevant Table Names During Prompt Generation, To Generate SQL Statements"
   ]
  },
  {
   "cell_type": "code",
   "execution_count": 10,
   "id": "5f55a3f9-9ace-4d78-88b4-3f853d2fda43",
   "metadata": {},
   "outputs": [],
   "source": [
    "from operator import itemgetter\n",
    "\n",
    "from langchain.chains import create_sql_query_chain\n",
    "from langchain_core.runnables import RunnablePassthrough\n",
    "\n",
    "def postprocessor(text:str)->str:\n",
    "    processed = text.split(\"```sql\")[-1].replace(\"`\",\"\")\n",
    "    return processed\n",
    "\n",
    "query_chain = create_sql_query_chain(llm, db)\n",
    "# Convert \"question\" key to the \"input\" key expected by current table_chain.\n",
    "table_chain = {\"input\": itemgetter(\"question\")} | table_chain\n",
    "# Set table_names_to_use using table_chain.\n",
    "full_chain = RunnablePassthrough.assign(table_names_to_use=table_chain) | query_chain | postprocessor"
   ]
  },
  {
   "cell_type": "code",
   "execution_count": 11,
   "id": "0b8bc156-d743-4bfb-acc8-b62fe602f185",
   "metadata": {},
   "outputs": [
    {
     "name": "stdout",
     "output_type": "stream",
     "text": [
      "\n",
      "SELECT DISTINCT \"T\".\"GenreId\", \"G\".\"Name\" AS \"Genre\"\n",
      "FROM \"Track\" AS \"T\"\n",
      "JOIN \"Album\" AS \"A\" ON \"T\".\"AlbumId\" = \"A\".\"AlbumId\"\n",
      "JOIN \"Artist\" AS \"AR\" ON \"A\".\"ArtistId\" = \"AR\".\"ArtistId\"\n",
      "JOIN \"Genre\" AS \"G\" ON \"T\".\"GenreId\" = \"G\".\"GenreId\"\n",
      "WHERE \"AR\".\"Name\" = 'Alanis Morisette'\n",
      "LIMIT 5;\n",
      "\n"
     ]
    }
   ],
   "source": [
    "query = full_chain.invoke(\n",
    "    {\"question\": \"What are all the genres of Alanis Morisette songs\"}\n",
    ")\n",
    "print(query)"
   ]
  },
  {
   "cell_type": "markdown",
   "id": "e9ed0845-7de3-49b4-ae12-7a647062a915",
   "metadata": {},
   "source": [
    "# Handle High Cardinality Columns"
   ]
  },
  {
   "cell_type": "code",
   "execution_count": 12,
   "id": "2dcbe605-50d7-4508-9327-260f536b410b",
   "metadata": {},
   "outputs": [
    {
     "data": {
      "text/plain": [
       "['St. Anger',\n",
       " 'Rock',\n",
       " 'Plays Metallica By Four Cellos',\n",
       " 'Scorpions',\n",
       " 'Anne-Sophie Mutter, Herbert Von Karajan & Wiener Philharmoniker']"
      ]
     },
     "execution_count": 12,
     "metadata": {},
     "output_type": "execute_result"
    }
   ],
   "source": [
    "import ast\n",
    "import re\n",
    "\n",
    "\n",
    "def query_as_list(db, query):\n",
    "    res = db.run(query)\n",
    "    res = [el for sub in ast.literal_eval(res) for el in sub if el]\n",
    "    res = [re.sub(r\"\\b\\d+\\b\", \"\", string).strip() for string in res]\n",
    "    return res\n",
    "\n",
    "\n",
    "proper_nouns = query_as_list(db, \"SELECT Name FROM Artist\")\n",
    "proper_nouns += query_as_list(db, \"SELECT Title FROM Album\")\n",
    "proper_nouns += query_as_list(db, \"SELECT Name FROM Genre\")\n",
    "proper_nouns = list(set(proper_nouns))\n",
    "len(proper_nouns)\n",
    "proper_nouns[:5]"
   ]
  },
  {
   "cell_type": "code",
   "execution_count": 13,
   "id": "f7d92cc5-e6b6-44d9-a405-5b5306c6cf93",
   "metadata": {},
   "outputs": [],
   "source": [
    "embedding = OllamaEmbeddings(model=OLLAMA_EMBEDDING_MODEL_ID, base_url=OLLAMA_BASE_URL)\n",
    "\n",
    "vector_db = OpenSearchVectorSearch.from_texts(\n",
    "    texts = proper_nouns, \n",
    "    embedding = embedding,\n",
    "    opensearch_url=OPENSEARCH_URL,\n",
    "    bulk_size=10000\n",
    "    )\n",
    "retriever = vector_db.as_retriever(search_kwargs={\"k\": 15})"
   ]
  },
  {
   "cell_type": "code",
   "execution_count": 29,
   "id": "67a36f47-4602-4846-86d5-9cb9f7dbc4c1",
   "metadata": {},
   "outputs": [],
   "source": [
    "from operator import itemgetter\n",
    "\n",
    "from langchain_core.prompts import ChatPromptTemplate\n",
    "from langchain_core.runnables import RunnablePassthrough\n",
    "\n",
    "system = \"\"\"You are a SQLite expert. Given an input question, create a syntactically\n",
    "correct SQLite query to run. Unless otherwise specificed, do not return more than\n",
    "{top_k} rows.\n",
    "\n",
    "Only return the SQL query with no markup or explanation.\n",
    "\n",
    "Here is the relevant table info: {table_info}\n",
    "\n",
    "Here is a non-exhaustive list of possible feature values. If your query includes a 'WHERE' clause, make sure to check the spelling of the predicate value against this list of proper noun spellings first:\n",
    "\n",
    "{proper_nouns}\n",
    "\"\"\"\n",
    "\n",
    "prompt = ChatPromptTemplate.from_messages([(\"system\", system), (\"human\", \"{input}\")])\n",
    "\n",
    "table_chain = category_chain | get_tables\n",
    "table_chain = {\"input\": itemgetter(\"question\")} | table_chain\n",
    "\n",
    "query_chain = create_sql_query_chain(llm, db, prompt=prompt)\n",
    "retriever_chain = (\n",
    "    itemgetter(\"question\")\n",
    "    | retriever\n",
    "    | (lambda docs: \"\\n\".join(doc.page_content for doc in docs))\n",
    ")\n",
    "full_chain = RunnablePassthrough.assign(table_names_to_use=table_chain) | query_chain | postprocessor\n",
    "chain = RunnablePassthrough.assign(proper_nouns=retriever_chain) | full_chain"
   ]
  },
  {
   "cell_type": "code",
   "execution_count": 27,
   "id": "ec4bfe65-aa74-4fc7-a2ca-ba97da57fd22",
   "metadata": {},
   "outputs": [
    {
     "name": "stdout",
     "output_type": "stream",
     "text": [
      "SELECT T3.Name FROM Album AS T1 JOIN Artist AS T2 ON T1.ArtistId = T2.ArtistId JOIN Track AS T3 ON T1.AlbumId = T3.AlbumId WHERE T2.Name = 'Alania Morisqete' LIMIT 5\n"
     ]
    },
    {
     "data": {
      "text/plain": [
       "''"
      ]
     },
     "execution_count": 27,
     "metadata": {},
     "output_type": "execute_result"
    }
   ],
   "source": [
    "## Example without using retrieval\n",
    "query = full_chain.invoke(\n",
    "    {\"question\": \"What are all the genres of Alania Morisqete songs\", \"proper_nouns\": \"\"}\n",
    ")\n",
    "print(query)\n",
    "db.run(query)"
   ]
  },
  {
   "cell_type": "code",
   "execution_count": 30,
   "id": "ece5fa35-fac5-44c5-974b-b717c4f983f3",
   "metadata": {},
   "outputs": [
    {
     "name": "stdout",
     "output_type": "stream",
     "text": [
      "SELECT T3.Name FROM Track AS T1 JOIN Album AS T2 ON T1.AlbumId = T2.AlbumId JOIN Genre AS T3 ON T1.GenreId = T3.GenreId WHERE T2.ArtistId = (SELECT ArtistId FROM Artist WHERE Name = 'Alanis Morissette') LIMIT 5\n"
     ]
    },
    {
     "data": {
      "text/plain": [
       "\"[('Rock',), ('Rock',), ('Rock',), ('Rock',), ('Rock',)]\""
      ]
     },
     "execution_count": 30,
     "metadata": {},
     "output_type": "execute_result"
    }
   ],
   "source": [
    "# With retrieval\n",
    "query = chain.invoke({\"question\": \"What are all the genres of Alania Morisqete songs\"})\n",
    "print(query)\n",
    "db.run(query)"
   ]
  },
  {
   "cell_type": "code",
   "execution_count": null,
   "id": "4e9326aa-dad6-4a0a-b70b-2119fc06740b",
   "metadata": {},
   "outputs": [],
   "source": []
  }
 ],
 "metadata": {
  "kernelspec": {
   "display_name": "Python 3 (ipykernel)",
   "language": "python",
   "name": "python3"
  },
  "language_info": {
   "codemirror_mode": {
    "name": "ipython",
    "version": 3
   },
   "file_extension": ".py",
   "mimetype": "text/x-python",
   "name": "python",
   "nbconvert_exporter": "python",
   "pygments_lexer": "ipython3",
   "version": "3.13.0"
  }
 },
 "nbformat": 4,
 "nbformat_minor": 5
}
