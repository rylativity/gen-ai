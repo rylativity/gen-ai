{
 "cells": [
  {
   "cell_type": "markdown",
   "id": "35c4ee7c-8e83-4322-8a2e-335b183c37a8",
   "metadata": {},
   "source": [
    "Adapted for open-source & private AI from https://python.langchain.com/docs/how_to/sql_large_db/"
   ]
  },
  {
   "cell_type": "code",
   "execution_count": 1,
   "id": "4caf84e9-dc65-4efa-92ba-13eab41052b7",
   "metadata": {},
   "outputs": [],
   "source": [
    "import os\n",
    "from langchain_community.utilities import SQLDatabase\n",
    "from langchain.chains import create_sql_query_chain\n",
    "# from langchain_ollama.llms import OllamaLLM\n",
    "from langchain_ollama.chat_models import ChatOllama\n",
    "from langchain_ollama.embeddings import OllamaEmbeddings\n",
    "from langchain_community.vectorstores import OpenSearchVectorSearch\n",
    "\n",
    "from langchain_core.output_parsers.openai_tools import PydanticToolsParser\n",
    "from langchain_core.prompts import ChatPromptTemplate\n",
    "from pydantic import BaseModel, Field"
   ]
  },
  {
   "cell_type": "markdown",
   "id": "16f024ff-99f7-4a92-b528-103321f4bf11",
   "metadata": {},
   "source": [
    "# Setup Database and Ollama Connections"
   ]
  },
  {
   "cell_type": "code",
   "execution_count": 2,
   "id": "d11e212c-4bb9-4988-a657-c4d3e4b1196a",
   "metadata": {},
   "outputs": [],
   "source": [
    "OLLAMA_BASE_URL = \"http://host.docker.internal:11434\"\n",
    "OLLAMA_MODEL_ID = \"llama3.1\"\n",
    "OLLAMA_EMBEDDING_MODEL_ID = \"nomic-embed-text\"\n",
    "\n",
    "SQLITE_DATABASE_URI = \"sqlite:///Chinook.db\"\n",
    "\n",
    "OPENSEARCH_URL = \"http://host.docker.internal:9200\""
   ]
  },
  {
   "cell_type": "code",
   "execution_count": 3,
   "id": "9ec1c5c3-67a3-4452-ae76-c2d7bb0ced4f",
   "metadata": {
    "scrolled": true
   },
   "outputs": [
    {
     "name": "stdout",
     "output_type": "stream",
     "text": [
      "Available tables are ['Album', 'Artist', 'Customer', 'Employee', 'Genre', 'Invoice', 'InvoiceLine', 'MediaType', 'Playlist', 'PlaylistTrack', 'Track']\n"
     ]
    }
   ],
   "source": [
    "db = SQLDatabase.from_uri(SQLITE_DATABASE_URI)\n",
    "print(f\"Available tables are {db.get_usable_table_names()}\")"
   ]
  },
  {
   "cell_type": "code",
   "execution_count": 4,
   "id": "292860b0-726e-40cc-b9b8-f28eff4824c6",
   "metadata": {
    "scrolled": true
   },
   "outputs": [
    {
     "data": {
      "text/plain": [
       "\"[(1, 'AC/DC'), (2, 'Accept'), (3, 'Aerosmith'), (4, 'Alanis Morissette'), (5, 'Alice In Chains'), (6, 'Antônio Carlos Jobim'), (7, 'Apocalyptica'), (8, 'Audioslave'), (9, 'BackBeat'), (10, 'Billy Cobham')]\""
      ]
     },
     "execution_count": 4,
     "metadata": {},
     "output_type": "execute_result"
    }
   ],
   "source": [
    "# Test db connection\n",
    "db.run(\"SELECT * FROM Artist LIMIT 10;\")"
   ]
  },
  {
   "cell_type": "code",
   "execution_count": 5,
   "id": "fa46e133-1a3b-4950-9fe3-21f736a84511",
   "metadata": {},
   "outputs": [],
   "source": [
    "llm = ChatOllama(model=OLLAMA_MODEL_ID, temperature=0, base_url=OLLAMA_BASE_URL, verbose=True)"
   ]
  },
  {
   "cell_type": "markdown",
   "id": "e6e5ec77-8ec1-4fdd-a280-ca628298878d",
   "metadata": {},
   "source": [
    "# Initial Example - Use LLM to Choose Relevant Tables Based on User Query"
   ]
  },
  {
   "cell_type": "code",
   "execution_count": 6,
   "id": "a44b4dfb-d8e2-4974-9b7c-29afb331dafe",
   "metadata": {},
   "outputs": [
    {
     "data": {
      "text/plain": [
       "[Table(name='Genre'),\n",
       " Table(name='Track'),\n",
       " Table(name='Artist'),\n",
       " Table(name='Album')]"
      ]
     },
     "execution_count": 6,
     "metadata": {},
     "output_type": "execute_result"
    }
   ],
   "source": [
    "class Table(BaseModel):\n",
    "    \"\"\"Table in SQL database.\"\"\"\n",
    "\n",
    "    name: str = Field(description=\"Name of the table in SQL database.\")\n",
    "\n",
    "table_names = \"\\n\".join(db.get_usable_table_names())\n",
    "system = f\"\"\"Below are the available table names:\n",
    "\n",
    "{table_names}\n",
    "\n",
    "Return the names of ALL the SQL tables that MIGHT be relevant to the user question. Respond with a list of Table objects.\n",
    "Remember to include ALL POTENTIALLY RELEVANT tables, even if you're not sure that they're needed.\"\"\"\n",
    "\n",
    "prompt = ChatPromptTemplate.from_messages(\n",
    "    [\n",
    "        (\"system\", system),\n",
    "        (\"human\", \"{input}\"),\n",
    "    ]\n",
    ")\n",
    "llm_with_tools = llm.bind_tools([Table])\n",
    "output_parser = PydanticToolsParser(tools=[Table])\n",
    "\n",
    "table_chain = prompt | llm_with_tools | output_parser\n",
    "\n",
    "table_chain.invoke({\"input\": \"What are all the genres of Alanis Morisette songs\"})"
   ]
  },
  {
   "cell_type": "markdown",
   "id": "412744f5-e0de-428f-b7ae-a841f6b8b721",
   "metadata": {},
   "source": [
    "# Simplify Model Table Selection By Grouping Tables and Asking LLM To Choose Category (Schema)"
   ]
  },
  {
   "cell_type": "code",
   "execution_count": 7,
   "id": "00510b2b-2a7c-407e-926c-9cad7eda02e4",
   "metadata": {},
   "outputs": [
    {
     "data": {
      "text/plain": [
       "[Table(name='Music')]"
      ]
     },
     "execution_count": 7,
     "metadata": {},
     "output_type": "execute_result"
    }
   ],
   "source": [
    "system = \"\"\"Return the names of any SQL tables that are relevant to the user question.\n",
    "The tables are:\n",
    "\n",
    "Music\n",
    "Business\n",
    "\"\"\"\n",
    "\n",
    "prompt = ChatPromptTemplate.from_messages(\n",
    "    [\n",
    "        (\"system\", system),\n",
    "        (\"human\", \"{input}\"),\n",
    "    ]\n",
    ")\n",
    "\n",
    "category_chain = prompt | llm_with_tools | output_parser\n",
    "category_chain.invoke({\"input\": \"What are all the genres of Alanis Morisette songs\"})"
   ]
  },
  {
   "cell_type": "code",
   "execution_count": 8,
   "id": "be883df5-4729-46e1-ad42-6b565a9cb137",
   "metadata": {},
   "outputs": [
    {
     "data": {
      "text/plain": [
       "['Album', 'Artist', 'Genre', 'MediaType', 'Playlist', 'PlaylistTrack', 'Track']"
      ]
     },
     "execution_count": 8,
     "metadata": {},
     "output_type": "execute_result"
    }
   ],
   "source": [
    "from typing import List\n",
    "\n",
    "\n",
    "def get_tables(categories: list[Table]) -> List[str]:\n",
    "    tables = []\n",
    "    for category in categories:\n",
    "        if category.name == \"Music\":\n",
    "            tables.extend(\n",
    "                [\n",
    "                    \"Album\",\n",
    "                    \"Artist\",\n",
    "                    \"Genre\",\n",
    "                    \"MediaType\",\n",
    "                    \"Playlist\",\n",
    "                    \"PlaylistTrack\",\n",
    "                    \"Track\",\n",
    "                ]\n",
    "            )\n",
    "        elif category.name == \"Business\":\n",
    "            tables.extend([\"Customer\", \"Employee\", \"Invoice\", \"InvoiceLine\"])\n",
    "    return tables\n",
    "\n",
    "\n",
    "table_chain = category_chain | get_tables\n",
    "table_chain.invoke({\"input\": \"What are all the genres of Alanis Morisette songs?\"})"
   ]
  },
  {
   "cell_type": "markdown",
   "id": "d610ce2f-20c1-4c97-8689-dd4a9b2f57d8",
   "metadata": {},
   "source": [
    "# Create a Full SQL Query Chain, Including Passing Relevant Table Names During Prompt Generation, To Generate SQL Statements"
   ]
  },
  {
   "cell_type": "code",
   "execution_count": 9,
   "id": "5f55a3f9-9ace-4d78-88b4-3f853d2fda43",
   "metadata": {},
   "outputs": [],
   "source": [
    "from operator import itemgetter\n",
    "\n",
    "from langchain.chains import create_sql_query_chain\n",
    "from langchain_core.runnables import RunnablePassthrough\n",
    "\n",
    "def postprocessor(text:str)->str:\n",
    "    processed = text.replace(\"`\",\"\")\n",
    "    return processed\n",
    "\n",
    "query_chain = create_sql_query_chain(llm, db)\n",
    "# Convert \"question\" key to the \"input\" key expected by current table_chain.\n",
    "table_chain = {\"input\": itemgetter(\"question\")} | table_chain\n",
    "# Set table_names_to_use using table_chain.\n",
    "full_chain = RunnablePassthrough.assign(table_names_to_use=table_chain) | query_chain | postprocessor"
   ]
  },
  {
   "cell_type": "code",
   "execution_count": 10,
   "id": "0b8bc156-d743-4bfb-acc8-b62fe602f185",
   "metadata": {},
   "outputs": [
    {
     "name": "stdout",
     "output_type": "stream",
     "text": [
      "Since there is no information about Alanis Morissette in the provided tables, I will assume that you want to know the genres of tracks from a specific artist.\n",
      "\n",
      "However, since we don't have any data about Alanis Morissette's songs in our database, I'll provide an answer based on the available data. Let's say we want to find the genres of AC/DC's songs instead.\n",
      "\n",
      "Question: What are all the genres of Alanis Morisette songs\n",
      "SQLQuery: SELECT T.GenreId, G.Name FROM Track AS T INNER JOIN Genre AS G ON T.GenreId = G.GenreId WHERE T.AlbumId IN (SELECT A.AlbumId FROM Album AS A INNER JOIN Artist AS Ar ON A.ArtistId = Ar.ArtistId WHERE Ar.Name = 'AC/DC')\n"
     ]
    }
   ],
   "source": [
    "query = full_chain.invoke(\n",
    "    {\"question\": \"What are all the genres of Alanis Morisette songs\"}\n",
    ")\n",
    "print(query)"
   ]
  },
  {
   "cell_type": "markdown",
   "id": "e9ed0845-7de3-49b4-ae12-7a647062a915",
   "metadata": {},
   "source": [
    "# Handle High Cardinality Columns"
   ]
  },
  {
   "cell_type": "code",
   "execution_count": 12,
   "id": "2dcbe605-50d7-4508-9327-260f536b410b",
   "metadata": {},
   "outputs": [
    {
     "data": {
      "text/plain": [
       "['Academy of St. Martin in the Fields & Sir Neville Marriner',\n",
       " 'Live At Donington  (Disc )',\n",
       " 'Machine Head',\n",
       " 'Comedy',\n",
       " 'Xis']"
      ]
     },
     "execution_count": 12,
     "metadata": {},
     "output_type": "execute_result"
    }
   ],
   "source": [
    "import ast\n",
    "import re\n",
    "\n",
    "\n",
    "def query_as_list(db, query):\n",
    "    res = db.run(query)\n",
    "    res = [el for sub in ast.literal_eval(res) for el in sub if el]\n",
    "    res = [re.sub(r\"\\b\\d+\\b\", \"\", string).strip() for string in res]\n",
    "    return res\n",
    "\n",
    "\n",
    "proper_nouns = query_as_list(db, \"SELECT Name FROM Artist\")\n",
    "proper_nouns += query_as_list(db, \"SELECT Title FROM Album\")\n",
    "proper_nouns += query_as_list(db, \"SELECT Name FROM Genre\")\n",
    "proper_nouns = list(set(proper_nouns))\n",
    "len(proper_nouns)\n",
    "proper_nouns[:5]"
   ]
  },
  {
   "cell_type": "code",
   "execution_count": 13,
   "id": "f7d92cc5-e6b6-44d9-a405-5b5306c6cf93",
   "metadata": {},
   "outputs": [
    {
     "ename": "ImportError",
     "evalue": "Could not import OpenSearch. Please install it with `pip install opensearch-py`.",
     "output_type": "error",
     "traceback": [
      "\u001b[0;31m---------------------------------------------------------------------------\u001b[0m",
      "\u001b[0;31mModuleNotFoundError\u001b[0m                       Traceback (most recent call last)",
      "File \u001b[0;32m/usr/local/lib/python3.13/site-packages/langchain_community/vectorstores/opensearch_vector_search.py:30\u001b[0m, in \u001b[0;36m_import_opensearch\u001b[0;34m()\u001b[0m\n\u001b[1;32m     29\u001b[0m \u001b[38;5;28;01mtry\u001b[39;00m:\n\u001b[0;32m---> 30\u001b[0m     \u001b[38;5;28;01mfrom\u001b[39;00m \u001b[38;5;21;01mopensearchpy\u001b[39;00m \u001b[38;5;28;01mimport\u001b[39;00m OpenSearch\n\u001b[1;32m     31\u001b[0m \u001b[38;5;28;01mexcept\u001b[39;00m \u001b[38;5;167;01mImportError\u001b[39;00m:\n",
      "\u001b[0;31mModuleNotFoundError\u001b[0m: No module named 'opensearchpy'",
      "\nDuring handling of the above exception, another exception occurred:\n",
      "\u001b[0;31mImportError\u001b[0m                               Traceback (most recent call last)",
      "Cell \u001b[0;32mIn[13], line 3\u001b[0m\n\u001b[1;32m      1\u001b[0m embedding \u001b[38;5;241m=\u001b[39m OllamaEmbeddings(model\u001b[38;5;241m=\u001b[39mOLLAMA_EMBEDDING_MODEL_ID, base_url\u001b[38;5;241m=\u001b[39mOLLAMA_BASE_URL)\n\u001b[0;32m----> 3\u001b[0m vector_db \u001b[38;5;241m=\u001b[39m \u001b[43mOpenSearchVectorSearch\u001b[49m\u001b[38;5;241;43m.\u001b[39;49m\u001b[43mfrom_texts\u001b[49m\u001b[43m(\u001b[49m\n\u001b[1;32m      4\u001b[0m \u001b[43m    \u001b[49m\u001b[43mtexts\u001b[49m\u001b[43m \u001b[49m\u001b[38;5;241;43m=\u001b[39;49m\u001b[43m \u001b[49m\u001b[43mproper_nouns\u001b[49m\u001b[43m,\u001b[49m\u001b[43m \u001b[49m\n\u001b[1;32m      5\u001b[0m \u001b[43m    \u001b[49m\u001b[43membedding\u001b[49m\u001b[43m \u001b[49m\u001b[38;5;241;43m=\u001b[39;49m\u001b[43m \u001b[49m\u001b[43membedding\u001b[49m\u001b[43m,\u001b[49m\n\u001b[1;32m      6\u001b[0m \u001b[43m    \u001b[49m\u001b[43mopensearch_url\u001b[49m\u001b[38;5;241;43m=\u001b[39;49m\u001b[43mOPENSEARCH_URL\u001b[49m\u001b[43m,\u001b[49m\n\u001b[1;32m      7\u001b[0m \u001b[43m    \u001b[49m\u001b[43mbulk_size\u001b[49m\u001b[38;5;241;43m=\u001b[39;49m\u001b[38;5;241;43m10000\u001b[39;49m\n\u001b[1;32m      8\u001b[0m \u001b[43m    \u001b[49m\u001b[43m)\u001b[49m\n\u001b[1;32m      9\u001b[0m retriever \u001b[38;5;241m=\u001b[39m vector_db\u001b[38;5;241m.\u001b[39mas_retriever(search_kwargs\u001b[38;5;241m=\u001b[39m{\u001b[38;5;124m\"\u001b[39m\u001b[38;5;124mk\u001b[39m\u001b[38;5;124m\"\u001b[39m: \u001b[38;5;241m15\u001b[39m})\n",
      "File \u001b[0;32m/usr/local/lib/python3.13/site-packages/langchain_community/vectorstores/opensearch_vector_search.py:1161\u001b[0m, in \u001b[0;36mOpenSearchVectorSearch.from_texts\u001b[0;34m(cls, texts, embedding, metadatas, bulk_size, ids, **kwargs)\u001b[0m\n\u001b[1;32m   1116\u001b[0m \u001b[38;5;250m\u001b[39m\u001b[38;5;124;03m\"\"\"Construct OpenSearchVectorSearch wrapper from raw texts.\u001b[39;00m\n\u001b[1;32m   1117\u001b[0m \n\u001b[1;32m   1118\u001b[0m \u001b[38;5;124;03mExample:\u001b[39;00m\n\u001b[0;32m   (...)\u001b[0m\n\u001b[1;32m   1158\u001b[0m \n\u001b[1;32m   1159\u001b[0m \u001b[38;5;124;03m\"\"\"\u001b[39;00m\n\u001b[1;32m   1160\u001b[0m embeddings \u001b[38;5;241m=\u001b[39m embedding\u001b[38;5;241m.\u001b[39membed_documents(texts)\n\u001b[0;32m-> 1161\u001b[0m \u001b[38;5;28;01mreturn\u001b[39;00m \u001b[38;5;28;43mcls\u001b[39;49m\u001b[38;5;241;43m.\u001b[39;49m\u001b[43mfrom_embeddings\u001b[49m\u001b[43m(\u001b[49m\n\u001b[1;32m   1162\u001b[0m \u001b[43m    \u001b[49m\u001b[43membeddings\u001b[49m\u001b[43m,\u001b[49m\n\u001b[1;32m   1163\u001b[0m \u001b[43m    \u001b[49m\u001b[43mtexts\u001b[49m\u001b[43m,\u001b[49m\n\u001b[1;32m   1164\u001b[0m \u001b[43m    \u001b[49m\u001b[43membedding\u001b[49m\u001b[43m,\u001b[49m\n\u001b[1;32m   1165\u001b[0m \u001b[43m    \u001b[49m\u001b[43mmetadatas\u001b[49m\u001b[38;5;241;43m=\u001b[39;49m\u001b[43mmetadatas\u001b[49m\u001b[43m,\u001b[49m\n\u001b[1;32m   1166\u001b[0m \u001b[43m    \u001b[49m\u001b[43mbulk_size\u001b[49m\u001b[38;5;241;43m=\u001b[39;49m\u001b[43mbulk_size\u001b[49m\u001b[43m,\u001b[49m\n\u001b[1;32m   1167\u001b[0m \u001b[43m    \u001b[49m\u001b[43mids\u001b[49m\u001b[38;5;241;43m=\u001b[39;49m\u001b[43mids\u001b[49m\u001b[43m,\u001b[49m\n\u001b[1;32m   1168\u001b[0m \u001b[43m    \u001b[49m\u001b[38;5;241;43m*\u001b[39;49m\u001b[38;5;241;43m*\u001b[39;49m\u001b[43mkwargs\u001b[49m\u001b[43m,\u001b[49m\n\u001b[1;32m   1169\u001b[0m \u001b[43m\u001b[49m\u001b[43m)\u001b[49m\n",
      "File \u001b[0;32m/usr/local/lib/python3.13/site-packages/langchain_community/vectorstores/opensearch_vector_search.py:1349\u001b[0m, in \u001b[0;36mOpenSearchVectorSearch.from_embeddings\u001b[0;34m(cls, embeddings, texts, embedding, metadatas, bulk_size, ids, **kwargs)\u001b[0m\n\u001b[1;32m   1346\u001b[0m     mapping \u001b[38;5;241m=\u001b[39m _default_scripting_text_mapping(dim)\n\u001b[1;32m   1348\u001b[0m [kwargs\u001b[38;5;241m.\u001b[39mpop(key, \u001b[38;5;28;01mNone\u001b[39;00m) \u001b[38;5;28;01mfor\u001b[39;00m key \u001b[38;5;129;01min\u001b[39;00m keys_list]\n\u001b[0;32m-> 1349\u001b[0m client \u001b[38;5;241m=\u001b[39m \u001b[43m_get_opensearch_client\u001b[49m\u001b[43m(\u001b[49m\u001b[43mopensearch_url\u001b[49m\u001b[43m,\u001b[49m\u001b[43m \u001b[49m\u001b[38;5;241;43m*\u001b[39;49m\u001b[38;5;241;43m*\u001b[39;49m\u001b[43mkwargs\u001b[49m\u001b[43m)\u001b[49m\n\u001b[1;32m   1350\u001b[0m _bulk_ingest_embeddings(\n\u001b[1;32m   1351\u001b[0m     client,\n\u001b[1;32m   1352\u001b[0m     index_name,\n\u001b[0;32m   (...)\u001b[0m\n\u001b[1;32m   1361\u001b[0m     is_aoss\u001b[38;5;241m=\u001b[39mis_aoss,\n\u001b[1;32m   1362\u001b[0m )\n\u001b[1;32m   1363\u001b[0m kwargs[\u001b[38;5;124m\"\u001b[39m\u001b[38;5;124mengine\u001b[39m\u001b[38;5;124m\"\u001b[39m] \u001b[38;5;241m=\u001b[39m engine\n",
      "File \u001b[0;32m/usr/local/lib/python3.13/site-packages/langchain_community/vectorstores/opensearch_vector_search.py:75\u001b[0m, in \u001b[0;36m_get_opensearch_client\u001b[0;34m(opensearch_url, **kwargs)\u001b[0m\n\u001b[1;32m     73\u001b[0m \u001b[38;5;250m\u001b[39m\u001b[38;5;124;03m\"\"\"Get OpenSearch client from the opensearch_url, otherwise raise error.\"\"\"\u001b[39;00m\n\u001b[1;32m     74\u001b[0m \u001b[38;5;28;01mtry\u001b[39;00m:\n\u001b[0;32m---> 75\u001b[0m     opensearch \u001b[38;5;241m=\u001b[39m \u001b[43m_import_opensearch\u001b[49m\u001b[43m(\u001b[49m\u001b[43m)\u001b[49m\n\u001b[1;32m     76\u001b[0m     client \u001b[38;5;241m=\u001b[39m opensearch(opensearch_url, \u001b[38;5;241m*\u001b[39m\u001b[38;5;241m*\u001b[39mkwargs)\n\u001b[1;32m     77\u001b[0m \u001b[38;5;28;01mexcept\u001b[39;00m \u001b[38;5;167;01mValueError\u001b[39;00m \u001b[38;5;28;01mas\u001b[39;00m e:\n",
      "File \u001b[0;32m/usr/local/lib/python3.13/site-packages/langchain_community/vectorstores/opensearch_vector_search.py:32\u001b[0m, in \u001b[0;36m_import_opensearch\u001b[0;34m()\u001b[0m\n\u001b[1;32m     30\u001b[0m     \u001b[38;5;28;01mfrom\u001b[39;00m \u001b[38;5;21;01mopensearchpy\u001b[39;00m \u001b[38;5;28;01mimport\u001b[39;00m OpenSearch\n\u001b[1;32m     31\u001b[0m \u001b[38;5;28;01mexcept\u001b[39;00m \u001b[38;5;167;01mImportError\u001b[39;00m:\n\u001b[0;32m---> 32\u001b[0m     \u001b[38;5;28;01mraise\u001b[39;00m \u001b[38;5;167;01mImportError\u001b[39;00m(IMPORT_OPENSEARCH_PY_ERROR)\n\u001b[1;32m     33\u001b[0m \u001b[38;5;28;01mreturn\u001b[39;00m OpenSearch\n",
      "\u001b[0;31mImportError\u001b[0m: Could not import OpenSearch. Please install it with `pip install opensearch-py`."
     ]
    }
   ],
   "source": [
    "embedding = OllamaEmbeddings(model=OLLAMA_EMBEDDING_MODEL_ID, base_url=OLLAMA_BASE_URL)\n",
    "\n",
    "vector_db = OpenSearchVectorSearch.from_texts(\n",
    "    texts = proper_nouns, \n",
    "    embedding = embedding,\n",
    "    opensearch_url=OPENSEARCH_URL,\n",
    "    bulk_size=10000\n",
    "    )\n",
    "retriever = vector_db.as_retriever(search_kwargs={\"k\": 15})"
   ]
  },
  {
   "cell_type": "code",
   "execution_count": null,
   "id": "67a36f47-4602-4846-86d5-9cb9f7dbc4c1",
   "metadata": {},
   "outputs": [],
   "source": [
    "from operator import itemgetter\n",
    "\n",
    "from langchain_core.prompts import ChatPromptTemplate\n",
    "from langchain_core.runnables import RunnablePassthrough\n",
    "\n",
    "system = \"\"\"You are a SQLite expert. Given an input question, create a syntactically\n",
    "correct SQLite query to run. Unless otherwise specificed, do not return more than\n",
    "{top_k} rows.\n",
    "\n",
    "Only return the SQL query with no markup or explanation.\n",
    "\n",
    "Here is the relevant table info: {table_info}\n",
    "\n",
    "Here is a non-exhaustive list of possible feature values. If your query includes a 'WHERE' clause, make sure to check the spelling of the predicate value against this list of proper noun spellings first:\n",
    "\n",
    "{proper_nouns}\n",
    "\"\"\"\n",
    "\n",
    "prompt = ChatPromptTemplate.from_messages([(\"system\", system), (\"human\", \"{input}\")])\n",
    "\n",
    "table_chain = category_chain | get_tables\n",
    "table_chain = {\"input\": itemgetter(\"question\")} | table_chain\n",
    "\n",
    "query_chain = create_sql_query_chain(llm, db, prompt=prompt)\n",
    "retriever_chain = (\n",
    "    itemgetter(\"question\")\n",
    "    | retriever\n",
    "    | (lambda docs: \"\\n\".join(doc.page_content for doc in docs))\n",
    ")\n",
    "full_chain = RunnablePassthrough.assign(table_names_to_use=table_chain) | query_chain | postprocessor\n",
    "chain = RunnablePassthrough.assign(proper_nouns=retriever_chain) | full_chain"
   ]
  },
  {
   "cell_type": "code",
   "execution_count": 27,
   "id": "ec4bfe65-aa74-4fc7-a2ca-ba97da57fd22",
   "metadata": {},
   "outputs": [
    {
     "name": "stdout",
     "output_type": "stream",
     "text": [
      "SELECT T3.Name FROM Album AS T1 JOIN Artist AS T2 ON T1.ArtistId = T2.ArtistId JOIN Track AS T3 ON T1.AlbumId = T3.AlbumId WHERE T2.Name = 'Alania Morisqete' LIMIT 5\n"
     ]
    },
    {
     "data": {
      "text/plain": [
       "''"
      ]
     },
     "execution_count": 27,
     "metadata": {},
     "output_type": "execute_result"
    }
   ],
   "source": [
    "## Example without using retrieval\n",
    "query = full_chain.invoke(\n",
    "    {\"question\": \"What are all the genres of Alania Morisqete songs\", \"proper_nouns\": \"\"}\n",
    ")\n",
    "print(query)\n",
    "db.run(query)"
   ]
  },
  {
   "cell_type": "code",
   "execution_count": 30,
   "id": "ece5fa35-fac5-44c5-974b-b717c4f983f3",
   "metadata": {},
   "outputs": [
    {
     "name": "stdout",
     "output_type": "stream",
     "text": [
      "SELECT T3.Name FROM Track AS T1 JOIN Album AS T2 ON T1.AlbumId = T2.AlbumId JOIN Genre AS T3 ON T1.GenreId = T3.GenreId WHERE T2.ArtistId = (SELECT ArtistId FROM Artist WHERE Name = 'Alanis Morissette') LIMIT 5\n"
     ]
    },
    {
     "data": {
      "text/plain": [
       "\"[('Rock',), ('Rock',), ('Rock',), ('Rock',), ('Rock',)]\""
      ]
     },
     "execution_count": 30,
     "metadata": {},
     "output_type": "execute_result"
    }
   ],
   "source": [
    "# With retrieval\n",
    "query = chain.invoke({\"question\": \"What are all the genres of Alania Morisqete songs\"})\n",
    "print(query)\n",
    "db.run(query)"
   ]
  },
  {
   "cell_type": "code",
   "execution_count": null,
   "id": "4e9326aa-dad6-4a0a-b70b-2119fc06740b",
   "metadata": {},
   "outputs": [],
   "source": []
  }
 ],
 "metadata": {
  "kernelspec": {
   "display_name": "Python 3 (ipykernel)",
   "language": "python",
   "name": "python3"
  },
  "language_info": {
   "codemirror_mode": {
    "name": "ipython",
    "version": 3
   },
   "file_extension": ".py",
   "mimetype": "text/x-python",
   "name": "python",
   "nbconvert_exporter": "python",
   "pygments_lexer": "ipython3",
   "version": "3.12.9"
  }
 },
 "nbformat": 4,
 "nbformat_minor": 5
}
