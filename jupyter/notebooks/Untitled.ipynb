{
 "cells": [
  {
   "cell_type": "code",
   "execution_count": 59,
   "id": "c0dfafc1-1958-4812-be3d-99bb5550eccc",
   "metadata": {},
   "outputs": [],
   "source": [
    "import os\n",
    "\n",
    "from langchain_community.utilities import SQLDatabase\n",
    "from langchain.chains.openai_tools import create_extraction_chain_pydantic\n",
    "from pydantic import BaseModel, Field\n",
    "# from langchain_ollama.llms import OllamaLLM\n",
    "from langchain_experimental.llms.ollama_functions import OllamaFunctions\n"
   ]
  },
  {
   "cell_type": "code",
   "execution_count": 119,
   "id": "16295740-ed50-4f69-afd6-6d5f4b186d7c",
   "metadata": {},
   "outputs": [],
   "source": [
    "OLLAMA_BASE_URL = \"http://host.docker.internal:11434\"\n",
    "OLLAMA_MODEL_ID = \"llama3.1\""
   ]
  },
  {
   "cell_type": "markdown",
   "id": "800b4956-2f4d-4a55-8062-31a52b5bb48d",
   "metadata": {},
   "source": [
    "# Connect to DB"
   ]
  },
  {
   "cell_type": "code",
   "execution_count": 120,
   "id": "b4459b0d-5526-4b2a-8d74-b9a8f9966e1f",
   "metadata": {},
   "outputs": [
    {
     "name": "stdout",
     "output_type": "stream",
     "text": [
      "sqlite\n",
      "['Album', 'Artist', 'Customer', 'Employee', 'Genre', 'Invoice', 'InvoiceLine', 'MediaType', 'Playlist', 'PlaylistTrack', 'Track']\n"
     ]
    },
    {
     "data": {
      "text/plain": [
       "\"[(1, 'AC/DC'), (2, 'Accept'), (3, 'Aerosmith'), (4, 'Alanis Morissette'), (5, 'Alice In Chains'), (6, 'Antônio Carlos Jobim'), (7, 'Apocalyptica'), (8, 'Audioslave'), (9, 'BackBeat'), (10, 'Billy Cobham')]\""
      ]
     },
     "execution_count": 120,
     "metadata": {},
     "output_type": "execute_result"
    }
   ],
   "source": [
    "db = SQLDatabase.from_uri(\"sqlite:///Chinook.db\")\n",
    "print(db.dialect)\n",
    "print(db.get_usable_table_names())\n",
    "db.run(\"SELECT * FROM Artist LIMIT 10;\")"
   ]
  },
  {
   "cell_type": "markdown",
   "id": "f6b59371-df76-4a0f-80f7-0c3365b62795",
   "metadata": {},
   "source": [
    "# Setup Langchain Ollama LLM"
   ]
  },
  {
   "cell_type": "code",
   "execution_count": 121,
   "id": "de021407-16a0-4a78-a0b0-01db6fc82553",
   "metadata": {},
   "outputs": [],
   "source": [
    "llm = OllamaFunctions(model=OLLAMA_MODEL_ID, base_url=OLLAMA_BASE_URL, verbose=True)"
   ]
  },
  {
   "cell_type": "code",
   "execution_count": 122,
   "id": "92649f61-e9c2-4373-9923-f40d858354c7",
   "metadata": {},
   "outputs": [
    {
     "data": {
      "text/plain": [
       "AIMessage(content='Hello! How are you today?', additional_kwargs={}, response_metadata={}, id='run-1c275633-f65e-44d1-875c-9acaf844c8ee-0')"
      ]
     },
     "execution_count": 122,
     "metadata": {},
     "output_type": "execute_result"
    }
   ],
   "source": [
    "llm.invoke(\"Hi\")"
   ]
  },
  {
   "cell_type": "markdown",
   "id": "1386e8ba-8e53-4981-8d1e-bf60e0b335c0",
   "metadata": {},
   "source": [
    "# Setup Prompt to Select Potentially Relevant Tables Based on Query"
   ]
  },
  {
   "cell_type": "code",
   "execution_count": 129,
   "id": "7bdffeb7-8ad9-40ea-90f9-6a10fc45d196",
   "metadata": {},
   "outputs": [],
   "source": [
    "class Tables(BaseModel):\n",
    "    \"\"\"Table in SQL database.\"\"\"\n",
    "\n",
    "    table_names: list[str] = Field(description=\"List of names of relevant tables in SQL database.\")"
   ]
  },
  {
   "cell_type": "code",
   "execution_count": 130,
   "id": "8f01c11e-9857-41bf-be79-99ccad05937b",
   "metadata": {},
   "outputs": [
    {
     "data": {
      "text/plain": [
       "'Album, Artist, Customer, Employee, Genre, Invoice, InvoiceLine, MediaType, Playlist, PlaylistTrack, Track'"
      ]
     },
     "execution_count": 130,
     "metadata": {},
     "output_type": "execute_result"
    }
   ],
   "source": [
    "table_names"
   ]
  },
  {
   "cell_type": "code",
   "execution_count": 132,
   "id": "92013c88-12a4-44dd-8668-005ad25f91b5",
   "metadata": {},
   "outputs": [],
   "source": [
    "table_names = \", \".join(db.get_usable_table_names())\n",
    "prompt_template = f\"\"\"Below are the available table names:\n",
    "\n",
    "{table_names}\n",
    "\n",
    "Return the names of ALL the SQL tables that MIGHT be relevant to the user question.\n",
    "Remember to include ALL POTENTIALLY RELEVANT tables, even if you're not sure that they're needed.\n",
    "\n",
    "Query:\n",
    "```sql\n",
    "{{query}}\n",
    "```\"\"\"\n",
    "structured_model = llm.with_structured_output(Tables, include_raw=True)\n",
    "\n",
    "prompt = prompt_template.format(query=\"What are all the genres of Alanis Morisette songs\")\n",
    "output = structured_model.invoke(prompt)"
   ]
  },
  {
   "cell_type": "code",
   "execution_count": 133,
   "id": "b20e5f75-ed01-45ad-af63-7349d7f18947",
   "metadata": {},
   "outputs": [
    {
     "data": {
      "text/plain": [
       "{'table_names': ['Album', 'Artist', 'Genre', 'Track']}"
      ]
     },
     "execution_count": 133,
     "metadata": {},
     "output_type": "execute_result"
    }
   ],
   "source": [
    "output[\"parsed\"].model_dump()"
   ]
  },
  {
   "cell_type": "code",
   "execution_count": null,
   "id": "ff549ae8-cc04-4c75-8d94-29b01ccad143",
   "metadata": {},
   "outputs": [],
   "source": []
  }
 ],
 "metadata": {
  "kernelspec": {
   "display_name": "Python 3 (ipykernel)",
   "language": "python",
   "name": "python3"
  },
  "language_info": {
   "codemirror_mode": {
    "name": "ipython",
    "version": 3
   },
   "file_extension": ".py",
   "mimetype": "text/x-python",
   "name": "python",
   "nbconvert_exporter": "python",
   "pygments_lexer": "ipython3",
   "version": "3.13.0"
  }
 },
 "nbformat": 4,
 "nbformat_minor": 5
}
