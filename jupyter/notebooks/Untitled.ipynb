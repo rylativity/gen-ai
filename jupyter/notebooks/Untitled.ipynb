{
 "cells": [
  {
   "cell_type": "code",
   "execution_count": 1,
   "id": "23106d77-1a80-4ba6-8dff-ea6e9e281119",
   "metadata": {},
   "outputs": [
    {
     "ename": "ModuleNotFoundError",
     "evalue": "No module named 'beeai_framework'",
     "output_type": "error",
     "traceback": [
      "\u001b[31m---------------------------------------------------------------------------\u001b[39m",
      "\u001b[31mModuleNotFoundError\u001b[39m                       Traceback (most recent call last)",
      "\u001b[36mCell\u001b[39m\u001b[36m \u001b[39m\u001b[32mIn[1]\u001b[39m\u001b[32m, line 2\u001b[39m\n\u001b[32m      1\u001b[39m \u001b[38;5;28;01mimport\u001b[39;00m\u001b[38;5;250m \u001b[39m\u001b[34;01masyncio\u001b[39;00m\n\u001b[32m----> \u001b[39m\u001b[32m2\u001b[39m \u001b[38;5;28;01mfrom\u001b[39;00m\u001b[38;5;250m \u001b[39m\u001b[34;01mbeeai_framework\u001b[39;00m\u001b[34;01m.\u001b[39;00m\u001b[34;01mbackend\u001b[39;00m\u001b[34;01m.\u001b[39;00m\u001b[34;01mchat\u001b[39;00m\u001b[38;5;250m \u001b[39m\u001b[38;5;28;01mimport\u001b[39;00m ChatModel\n\u001b[32m      3\u001b[39m \u001b[38;5;28;01mfrom\u001b[39;00m\u001b[38;5;250m \u001b[39m\u001b[34;01mbeeai_framework\u001b[39;00m\u001b[34;01m.\u001b[39;00m\u001b[34;01mtools\u001b[39;00m\u001b[34;01m.\u001b[39;00m\u001b[34;01msearch\u001b[39;00m\u001b[34;01m.\u001b[39;00m\u001b[34;01mwikipedia\u001b[39;00m\u001b[38;5;250m \u001b[39m\u001b[38;5;28;01mimport\u001b[39;00m WikipediaTool\n\u001b[32m      4\u001b[39m \u001b[38;5;28;01mfrom\u001b[39;00m\u001b[38;5;250m \u001b[39m\u001b[34;01mbeeai_framework\u001b[39;00m\u001b[34;01m.\u001b[39;00m\u001b[34;01mtools\u001b[39;00m\u001b[34;01m.\u001b[39;00m\u001b[34;01mweather\u001b[39;00m\u001b[34;01m.\u001b[39;00m\u001b[34;01mopenmeteo\u001b[39;00m\u001b[38;5;250m \u001b[39m\u001b[38;5;28;01mimport\u001b[39;00m OpenMeteoTool\n",
      "\u001b[31mModuleNotFoundError\u001b[39m: No module named 'beeai_framework'"
     ]
    }
   ],
   "source": [
    "import asyncio\n",
    "from beeai_framework.backend.chat import ChatModel\n",
    "from beeai_framework.tools.search.wikipedia import WikipediaTool\n",
    "from beeai_framework.tools.weather.openmeteo import OpenMeteoTool\n",
    "from beeai_framework.workflows.agent import AgentWorkflow, AgentWorkflowInput"
   ]
  },
  {
   "cell_type": "code",
   "execution_count": null,
   "id": "3560b05f-c67e-49f2-a2b2-eeea0737a7ac",
   "metadata": {},
   "outputs": [],
   "source": [
    "async def main() -> None:\n",
    "    llm = ChatModel.from_name(\"ollama:granite3.1-dense:8b\")\n",
    "    workflow = AgentWorkflow(name=\"Smart assistant\")\n",
    "\n",
    "    workflow.add_agent(\n",
    "        name=\"Researcher\",\n",
    "        role=\"A diligent researcher.\",\n",
    "        instructions=\"You look up and provide information about a specific topic.\",\n",
    "        tools=[WikipediaTool()],\n",
    "        llm=llm,\n",
    "    )\n",
    "\n",
    "    workflow.add_agent(\n",
    "        name=\"WeatherForecaster\",\n",
    "        role=\"A weather reporter.\",\n",
    "        instructions=\"You provide detailed weather reports.\",\n",
    "        tools=[OpenMeteoTool()],\n",
    "        llm=llm,\n",
    "    )\n",
    "\n",
    "    workflow.add_agent(\n",
    "        name=\"DataSynthesizer\",\n",
    "        role=\"A meticulous and creative data synthesizer\",\n",
    "        instructions=\"You can combine disparate information into a final coherent summary.\",\n",
    "        llm=llm,\n",
    "    )\n",
    "\n",
    "    location = \"Saint-Tropez\"\n",
    "\n",
    "    response = await workflow.run(\n",
    "        inputs=[\n",
    "            AgentWorkflowInput(\n",
    "                prompt=f\"Provide a short history of {location}.\",\n",
    "            ),\n",
    "            AgentWorkflowInput(\n",
    "                prompt=f\"Provide a comprehensive weather summary for {location} today.\",\n",
    "                expected_output=\"Essential weather details such as chance of rain, temperature and wind. Only report information that is available.\",\n",
    "            ),\n",
    "            AgentWorkflowInput(\n",
    "                prompt=f\"Summarize the historical and weather data for {location}.\",\n",
    "                expected_output=f\"A paragraph that describes the history of {location}, followed by the current weather conditions.\",\n",
    "            ),\n",
    "        ]\n",
    "    ).on(\n",
    "        \"success\",\n",
    "        lambda data, event: print(\n",
    "            f\"\\n-> Step '{data.step}' has been completed with the following outcome.\\n\\n{data.state.final_answer}\"\n",
    "        ),\n",
    "    )\n",
    "\n",
    "    print(\"==== Final Answer ====\")\n",
    "    print(response.result.final_answer)\n",
    "\n",
    "\n",
    "if __name__ == \"__main__\":\n",
    "    asyncio.run(main())"
   ]
  }
 ],
 "metadata": {
  "kernelspec": {
   "display_name": "Python 3 (ipykernel)",
   "language": "python",
   "name": "python3"
  },
  "language_info": {
   "codemirror_mode": {
    "name": "ipython",
    "version": 3
   },
   "file_extension": ".py",
   "mimetype": "text/x-python",
   "name": "python",
   "nbconvert_exporter": "python",
   "pygments_lexer": "ipython3",
   "version": "3.12.9"
  }
 },
 "nbformat": 4,
 "nbformat_minor": 5
}
